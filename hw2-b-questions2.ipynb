{
 "cells": [
  {
   "cell_type": "code",
   "execution_count": 13,
   "metadata": {},
   "outputs": [],
   "source": [
    "import pandas as pd\n",
    "import numpy as np\n",
    "import os\n",
    "\n",
    "yobs_df = pd.read_csv(r\"D:\\OneDrive - Old Dominion University\\2023 Spring\\cs620\\HW2\\yob-names\", header=0)\n"
   ]
  },
  {
   "cell_type": "code",
   "execution_count": 6,
   "metadata": {},
   "outputs": [],
   "source": [
    "#1:1 mapping to new names\n",
    "new_names = {\n",
    "  0: 'name',\n",
    "  1: 'sex',\n",
    "  2: 'frequency',\n",
    "  'year': 'year',\n",
    "}\n",
    "\n",
    "# #do rename\n",
    "yobs_df.rename(\n",
    "  columns = new_names, \n",
    "  inplace = True\n",
    ")\n"
   ]
  },
  {
   "cell_type": "code",
   "execution_count": 27,
   "metadata": {},
   "outputs": [
    {
     "name": "stdout",
     "output_type": "stream",
     "text": [
      "   year       name sex  frequency\n",
      "0  1880       Mary   F       7065\n",
      "1  1880       Anna   F       2604\n",
      "2  1880       Emma   F       2003\n",
      "3  1880  Elizabeth   F       1939\n",
      "4  1880     Minnie   F       1746\n",
      "5  1880   Margaret   F       1578\n",
      "6  1880        Ida   F       1472\n",
      "7  1880      Alice   F       1414\n",
      "8  1880     Bertha   F       1320\n",
      "9  1880      Sarah   F       1288\n"
     ]
    }
   ],
   "source": [
    "print(yobs_df.head(10))"
   ]
  },
  {
   "cell_type": "code",
   "execution_count": 33,
   "metadata": {},
   "outputs": [
    {
     "name": "stdout",
     "output_type": "stream",
     "text": [
      "        year         name sex  frequency\n",
      "876137  1980      Michael   M      68702\n",
      "876138  1980  Christopher   M      49101\n",
      "876139  1980        Jason   M      48178\n",
      "876140  1980        David   M      41913\n",
      "876141  1980        James   M      39330\n",
      "876142  1980      Matthew   M      37848\n",
      "876143  1980       Joshua   M      36062\n",
      "876144  1980         John   M      35288\n",
      "876145  1980       Robert   M      34278\n",
      "876146  1980       Joseph   M      30200\n"
     ]
    }
   ],
   "source": [
    "# Question 2\n",
    "# a) (5 pts) What is the most popular boys name in year 1980? \n",
    "yobs_1980_df = yobs_df[(yobs_df[\"year\"] == 1980) &\n",
    "                       (yobs_df[\"sex\"] == \"M\")]\n",
    "yobs_1980_df = yobs_1980_df.sort_values(by=\"frequency\", ascending=False)\n",
    "print(yobs_1980_df.head(10))\n",
    "\n",
    "#  Michael is the most popular boys name in year 1980\n"
   ]
  },
  {
   "cell_type": "code",
   "execution_count": 41,
   "metadata": {},
   "outputs": [
    {
     "name": "stdout",
     "output_type": "stream",
     "text": [
      "year                                                  92203589\n",
      "name         JessicaAshleyBrittanyAmandaSamanthaSarahStepha...\n",
      "sex          FFFFFFFFFFFFFFFFFFFFFFFFFFFFFFFFFFFFFFFFFFFFFF...\n",
      "frequency                                              5616967\n",
      "dtype: object\n"
     ]
    }
   ],
   "source": [
    "# b) (10 pts) How many girls were born between 1990 and 1992? \n",
    "\n",
    "yobs_female_df = yobs_df[(yobs_df[\"sex\"] == \"F\") &\n",
    "                          (yobs_df[\"year\"] >= 1990) &\n",
    "                          (yobs_df[\"year\"] < 1993)]\n",
    "\n",
    "yobs_female_df = yobs_female_df.sum()\n",
    "print(yobs_female_df)\n",
    "\n",
    "\n",
    "# I count all frequency between 1990 - 1992, the totally number of female names is 5616967.\n",
    "# but I dont thing this can answer the question 2 according to our data.\n"
   ]
  },
  {
   "cell_type": "code",
   "execution_count": null,
   "metadata": {},
   "outputs": [],
   "source": [
    "# c) (15 pts) Estimate the number of female Benjamin’s alive today (year 2022) who were born on or after 1950. For this particular query, use the given “cdclife-expectancy.csv” file to generate this result. We can interpret the data from this file as, “The average life expectancy of U.S. babies born in each year, for Males and Females” and so on. \n",
    "\n",
    "\n",
    "\n",
    "\n",
    "\n",
    "\n",
    "\n",
    "\n",
    "\n",
    "\n",
    "\n",
    "\n",
    "\n",
    "\n",
    "\n"
   ]
  }
 ],
 "metadata": {
  "kernelspec": {
   "display_name": "Python 3",
   "language": "python",
   "name": "python3"
  },
  "language_info": {
   "codemirror_mode": {
    "name": "ipython",
    "version": 3
   },
   "file_extension": ".py",
   "mimetype": "text/x-python",
   "name": "python",
   "nbconvert_exporter": "python",
   "pygments_lexer": "ipython3",
   "version": "3.11.1"
  },
  "orig_nbformat": 4,
  "vscode": {
   "interpreter": {
    "hash": "854f9ff9f945bab8ba5d04e939504df285fc62eb45b7a687b185fca2375459b7"
   }
  }
 },
 "nbformat": 4,
 "nbformat_minor": 2
}
